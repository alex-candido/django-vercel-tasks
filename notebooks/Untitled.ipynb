{
 "cells": [
  {
   "cell_type": "code",
   "execution_count": 7,
   "id": "e760a9c1-f69c-42c4-8e31-25f6a992e1c4",
   "metadata": {},
   "outputs": [
    {
     "name": "stdout",
     "output_type": "stream",
     "text": [
      "Valor original (int): 1234567890\n",
      "UUID v4 gerado: aba18f3e-91fd-4672-ab46-1ed2cfd21474\n",
      "Valor recuperado do UUID: 1234567890\n"
     ]
    }
   ],
   "source": [
    "import uuid\n",
    "\n",
    "# Dicionário para armazenar a relação entre UUID e números inteiros\n",
    "uuid_to_int_map = {}\n",
    "\n",
    "# Função para converter int para UUID v4\n",
    "def int_to_uuid_v4(i):\n",
    "    # Gerando o UUID v4 aleatório\n",
    "    generated_uuid = uuid.uuid4()\n",
    "    \n",
    "    # Armazenando a relação entre o UUID e o inteiro\n",
    "    uuid_to_int_map[generated_uuid] = i\n",
    "    \n",
    "    return generated_uuid\n",
    "\n",
    "# Função para recuperar o inteiro associado a um UUID v4\n",
    "def uuid_to_int_v4(u):\n",
    "    return uuid_to_int_map.get(u)\n",
    "\n",
    "# Testando a conversão\n",
    "original_int = 1234567890\n",
    "print(f\"Valor original (int): {original_int}\")\n",
    "\n",
    "# Convertendo int para UUID v4\n",
    "generated_uuid_v4 = int_to_uuid_v4(original_int)\n",
    "print(f\"UUID v4 gerado: {generated_uuid_v4}\")\n",
    "\n",
    "# Recuperando o inteiro associado ao UUID v4\n",
    "retrieved_int = uuid_to_int_v4(generated_uuid_v4)\n",
    "print(f\"Valor recuperado do UUID: {retrieved_int}\")\n"
   ]
  }
 ],
 "metadata": {
  "kernelspec": {
   "display_name": "Python 3 (ipykernel)",
   "language": "python",
   "name": "python3"
  },
  "language_info": {
   "codemirror_mode": {
    "name": "ipython",
    "version": 3
   },
   "file_extension": ".py",
   "mimetype": "text/x-python",
   "name": "python",
   "nbconvert_exporter": "python",
   "pygments_lexer": "ipython3",
   "version": "3.12.4"
  }
 },
 "nbformat": 4,
 "nbformat_minor": 5
}
